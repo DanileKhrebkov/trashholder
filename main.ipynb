{
 "cells": [
  {
   "cell_type": "code",
   "execution_count": null,
   "metadata": {},
   "outputs": [],
   "source": [
    "\n",
    "def calculate_url(first, second, operation):\n",
    "    match operation:\n",
    "        case \"-\":\n",
    "            return f\"<h3>Result {first-second}</h3>\"\n",
    "        case \"+\":\n",
    "            return f\"<h3>Result {first+second}</h3>\"\n",
    "        case \"*\":\n",
    "            return f\"<h3>Result {first*second}</h3>\"\n",
    "        case \":\":\n",
    "            return f\"<h3>Result {first/second}</h3>\"\n",
    "        case _:\n",
    "            return \"\"\n",
    "@app.route('/')\n",
    "def hello():\n",
    "    return \"This is the main page\"\n",
    "\n",
    "@app.route('/<int:first>-<int:second>')\n",
    "def minus(first,second):\n",
    "    return calculate_url(first, second, '-')\n",
    "\n",
    "@app.route('/<int:first>+<int:second>')\n",
    "def plus(first,second):\n",
    "    return calculate_url(first, second, '+')\n",
    "\n",
    "@app.route('/<int:first>*<int:second>')\n",
    "def mult(first,second):\n",
    "    return calculate_url(first, second, '*')\n",
    "\n",
    "@app.route('/<int:first>:<int:second>')\n",
    "def sub(first,second):\n",
    "    return calculate_url(first, second, ':')\n",
    "\n",
    "\n"
   ]
  }
 ],
 "metadata": {
  "kernelspec": {
   "display_name": "Python 3",
   "language": "python",
   "name": "python3"
  },
  "language_info": {
   "name": "python",
   "version": "3.11.9"
  }
 },
 "nbformat": 4,
 "nbformat_minor": 2
}

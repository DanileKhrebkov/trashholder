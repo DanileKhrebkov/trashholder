{
 "cells": [
  {
   "cell_type": "code",
   "execution_count": 1,
   "metadata": {},
   "outputs": [
    {
     "name": "stdout",
     "output_type": "stream",
     "text": [
      "Country: RU\n",
      " City: Sochi\n",
      " lat,lon: 43.5970,39.7248\n",
      " organization: AS47586 Business Svyaz\n"
     ]
    }
   ],
   "source": [
    "import requests\n",
    "ip = '158.58.129.140'\n",
    "url = \"https://ipinfo.io/\" + ip +'/geo'\n",
    "\n",
    "response = requests.get(url)\n",
    "\n",
    "r = response.json()\n",
    "\n",
    "print(f'Country: {r[\"country\"]}\\n City: {r[\"city\"]}\\n lat,lon: {r[\"loc\"]}\\n organization: {r[\"org\"]}')"
   ]
  },
  {
   "cell_type": "code",
   "execution_count": 1,
   "metadata": {},
   "outputs": [],
   "source": [
    "import json\n",
    "import os \n",
    "\n",
    "\n",
    "    \n",
    "\n",
    "class Movies:\n",
    "    def __init__(self, file):\n",
    "        self.filename = file\n",
    "        try:\n",
    "            if os.path.exists(file):\n",
    "                with open(self.filename, 'r', encoding='UTF-8') as file:\n",
    "                    self.file = json.load(file)\n",
    "            else:\n",
    "                self.file = []\n",
    "        except json.JSONDecodeError:\n",
    "            self.file = []\n",
    "\n",
    "    def search_movie(self, nameMovie):\n",
    "        for movie in self.file:\n",
    "            if movie[\"name\"] == nameMovie:\n",
    "                return movie\n",
    "            \n",
    "    def add_movie(self, nameMovie, yearMovie):\n",
    "        self.file.append({\"name\":nameMovie, \"year\":yearMovie})\n",
    "\n",
    "    def del_movie(self, movieName):\n",
    "        for movie in self.file:\n",
    "            if movie[\"name\"] == movieName:\n",
    "                self.file.remove(movie)\n",
    "\n",
    "    def save_file(self):\n",
    "        with open(self.filename, 'w', encoding='UTF-8') as file:\n",
    "            json.dump(self.file, file, indent=4)\n",
    "\n",
    "FILE = 'movies.json'\n",
    "myMovies = Movies(FILE)\n",
    "myMovies.del_movie('Lion King 2')\n",
    "myMovies.add_movie('Shrek 5', '2027')\n",
    "myMovies.save_file()"
   ]
  }
 ],
 "metadata": {
  "kernelspec": {
   "display_name": "Python 3",
   "language": "python",
   "name": "python3"
  },
  "language_info": {
   "codemirror_mode": {
    "name": "ipython",
    "version": 3
   },
   "file_extension": ".py",
   "mimetype": "text/x-python",
   "name": "python",
   "nbconvert_exporter": "python",
   "pygments_lexer": "ipython3",
   "version": "3.11.9"
  }
 },
 "nbformat": 4,
 "nbformat_minor": 2
}

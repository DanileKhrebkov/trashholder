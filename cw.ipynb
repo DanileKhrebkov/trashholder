{
 "cells": [
  {
   "cell_type": "code",
   "execution_count": 1,
   "metadata": {},
   "outputs": [
    {
     "name": "stdout",
     "output_type": "stream",
     "text": [
      "4\n",
      "3\n",
      "2\n"
     ]
    }
   ],
   "source": [
    "my_list = []\n",
    "my_list.append(1)\n",
    "my_list.append(2)\n",
    "my_list.append(3)\n",
    "my_list.append(4)\n",
    "\n",
    "print(my_list.pop())\n",
    "print(my_list.pop())\n",
    "print(my_list.pop())"
   ]
  },
  {
   "cell_type": "code",
   "execution_count": 5,
   "metadata": {},
   "outputs": [
    {
     "name": "stdout",
     "output_type": "stream",
     "text": [
      "1 is added\n",
      "2 is added\n",
      "4 is added\n",
      "3 is added\n",
      "Удален: 3\n",
      "//////////////////////////////////////////\n",
      "Selected stack: [1, 2, 4]\n",
      "<__main__.Stack object at 0x00000196024F7C50>\n"
     ]
    }
   ],
   "source": [
    "class Stack:\n",
    "    def __init__(self):\n",
    "        self.__stack = []\n",
    "\n",
    "    def is_empty(self):\n",
    "        return len(self.__stack) == 0\n",
    "    \n",
    "\n",
    "    def push(self, item):\n",
    "        self.__stack.append(item)\n",
    "        print(f\"{item} is added\")\n",
    "\n",
    "\n",
    "    def pop(self):\n",
    "        if not self.is_empty():\n",
    "            popped_item = self.__stack.pop()\n",
    "            print(f\"Удален: {popped_item}\")\n",
    "        else:\n",
    "            print(\" is empty\")\n",
    "            return None\n",
    "        \n",
    "    \n",
    "    def check_last(self):\n",
    "        if not self.is_empty():\n",
    "            return self.__stack[-1]\n",
    "        else:\n",
    "            print(\" is empty\")\n",
    "            return None\n",
    "        \n",
    "    def size(self):\n",
    "        return len(self.__stack)\n",
    "    \n",
    "    def display(self):\n",
    "        print(f\"Selected stack: {self.__stack}\")\n",
    "\n",
    "my_stack = Stack()\n",
    "my_stack.push(1)\n",
    "my_stack.push(2)\n",
    "my_stack.push(4)\n",
    "my_stack.push(3)\n",
    "my_stack.pop()\n",
    "my_stack.is_empty()\n",
    "my_stack.check_last()\n",
    "print(\"//////////////////////////////////////////\")\n",
    "my_stack.display()\n"
   ]
  },
  {
   "cell_type": "code",
   "execution_count": 6,
   "metadata": {},
   "outputs": [
    {
     "name": "stdout",
     "output_type": "stream",
     "text": [
      "1\n",
      "2\n"
     ]
    }
   ],
   "source": [
    "my_list = []\n",
    "my_list.append(1)\n",
    "my_list.append(2)\n",
    "my_list.append(3)\n",
    "print(my_list.pop(0))\n",
    "print(my_list.pop(0))\n",
    "\n"
   ]
  },
  {
   "cell_type": "code",
   "execution_count": 11,
   "metadata": {},
   "outputs": [
    {
     "name": "stdout",
     "output_type": "stream",
     "text": [
      "1 is added\n",
      "2 is added\n",
      "3 is added\n",
      "4 is added\n",
      "Удален: 4\n",
      "Удален: 3\n",
      "2\n",
      "//////////////////////////////////////////\n",
      "Selected stack: [1, 2]\n"
     ]
    }
   ],
   "source": [
    "class Queue:\n",
    "\n",
    "    def __init__(self):\n",
    "        self.__Queue = []\n",
    "\n",
    "    def is_empty(self):\n",
    "        return len(self.__Queue) == 0\n",
    "    \n",
    "\n",
    "    def push(self, item):\n",
    "        self.__Queue.append(item)\n",
    "        print(f\"{item} is added\")\n",
    "\n",
    "\n",
    "    def pop(self):\n",
    "        if not self.is_empty():\n",
    "            popped_item = self.__Queue.pop()\n",
    "            print(f\"Удален: {popped_item}\")\n",
    "        else:\n",
    "            print(\" is empty\")\n",
    "            return None\n",
    "\n",
    "\n",
    "    def check_last(self):\n",
    "        if not self.is_empty():\n",
    "            return self.__Queue[0]\n",
    "        else:\n",
    "            print(\" is empty\")\n",
    "            return None\n",
    "\n",
    "    def size(self):\n",
    "        return len(self.__Queue)\n",
    "\n",
    "    def display(self):\n",
    "        print(f\"Selected stack: {self.__Queue}\")\n",
    "\n",
    "my_queue = Queue()\n",
    "my_queue.push(1)\n",
    "my_queue.push(2)\n",
    "my_queue.push(3)\n",
    "my_queue.push(4)\n",
    "my_queue.pop()\n",
    "my_queue.pop()\n",
    "print(my_queue.size())\n",
    "my_queue.check_last()\n",
    "print(\"//////////////////////////////////////////\")\n",
    "my_stack.display()\n"
   ]
  },
  {
   "cell_type": "code",
   "execution_count": 23,
   "metadata": {},
   "outputs": [
    {
     "name": "stdout",
     "output_type": "stream",
     "text": [
      "50\n",
      "3\n",
      "50\n",
      "3\n"
     ]
    }
   ],
   "source": [
    "class Node:\n",
    "    def __init__(self, key):\n",
    "        self.left = None\n",
    "        self.right = None\n",
    "        self.value = key\n",
    "\n",
    "class BinaryTree:\n",
    "    def __init__(self):\n",
    "        self.root = None\n",
    "\n",
    "    def insert(self, key):\n",
    "        if self.root is None:\n",
    "            self.root = Node(key)\n",
    "        else:\n",
    "            self.__insert_rec(self.root, key)\n",
    "\n",
    "    def __inorder_rec(self, node, result):\n",
    "        if node:\n",
    "            self.__inorder_rec(node.left, result)\n",
    "            result.append(node.value)\n",
    "            self.__inorder_rec(node.right, result)\n",
    "\n",
    "\n",
    "    def inorder_traversel(self):\n",
    "        result = []\n",
    "        self.__inorder_rec(self.root, result)\n",
    "        return result\n",
    "\n",
    "    def __insert_rec(self, node, key):\n",
    "        if key < node.value:\n",
    "            if node.left is None:\n",
    "                node.left = Node(key)\n",
    "            else:\n",
    "                self.__insert_rec(node.left, key)\n",
    "        else:\n",
    "            if node.right is None:\n",
    "                node.right = Node(key)\n",
    "            else:\n",
    "                self.__insert_rec(node.right, key)\n",
    "    def search(self, key):\n",
    "        return self.__search(self.root, key)\n",
    "    \n",
    "    def __search(self, node, key):\n",
    "        if node is None:\n",
    "            return False\n",
    "        if node.value == key:\n",
    "            return True\n",
    "        elif key < node.value:\n",
    "            return self.__search(node.left, key)\n",
    "        else:\n",
    "            return self.__search(node.right, key)\n",
    "    def is_empty(self): return self.root is None\n",
    "    def find_min(self):\n",
    "        if self.is_empty():return None\n",
    "        return self.__find_min(self.root)\n",
    "    def __find_min(self,node):\n",
    "        while node.left:\n",
    "            node = node.left\n",
    "        return node.value\n",
    "    def find_max(self):\n",
    "        if self.is_empty():return None\n",
    "        return self.__find_max(self.root)\n",
    "    def __find_max(self,node):\n",
    "        while node.right:\n",
    "            node = node.right\n",
    "        return node.value\n",
    "\n",
    "    \n",
    "\n",
    "\n",
    "\n",
    "bt = BinaryTree()\n",
    "elements = [24, 20, 13, 50, 3, 32, 6]\n",
    "for el in elements:\n",
    "    bt.insert(el)\n",
    "\n",
    "\n",
    "\n",
    "\n",
    "print(bt.inorder_traversel()[-1])\n",
    "print(bt.inorder_traversel()[0])\n",
    "print(bt.find_max())\n",
    "print(bt.find_min())\n"
   ]
  },
  {
   "cell_type": "code",
   "execution_count": 18,
   "metadata": {},
   "outputs": [
    {
     "name": "stdout",
     "output_type": "stream",
     "text": [
      "[[], [[1]]]\n",
      "[[2], [[[3], [3.5]], [4]]]\n",
      "[5]\n"
     ]
    }
   ],
   "source": [
    "numbers = [\n",
    "    [\n",
    "        [\n",
    "\n",
    "        ],\n",
    "        [\n",
    "            [1]\n",
    "        ]\n",
    "    ],\n",
    "    [\n",
    "        [2],\n",
    "        [\n",
    "            [\n",
    "                [3],\n",
    "                [3.5]\n",
    "            ],\n",
    "            [4]\n",
    "        ]\n",
    "    ],\n",
    "    [5]\n",
    "]\n",
    "def print_elements(num):\n",
    "    for i in num:\n",
    "        if type(i) == list:\n",
    "            print_elements(i)\n",
    "        else:\n",
    "            print(i)\n",
    "            \n",
    "print_elements(numbers)"
   ]
  },
  {
   "cell_type": "code",
   "execution_count": 3,
   "metadata": {},
   "outputs": [
    {
     "name": "stdout",
     "output_type": "stream",
     "text": [
      "t2\n",
      "t3\n",
      "t1\n"
     ]
    }
   ],
   "source": [
    "import heapq\n",
    "class PriorityQueue:\n",
    "    def __init__(self):\n",
    "        self.__queue = []\n",
    "        self.counter = 0 #cчетчик для одинаковых приоритетов\n",
    "    def enqueue(self, item, priority): #adding in queue\n",
    "        heapq.heappush(self.__queue, (priority, self.counter, item))\n",
    "        self.counter += 1 \n",
    "\n",
    "    def is_empty(self):\n",
    "        return len(self.__queue) == 0\n",
    "\n",
    "    def dequeue(self):\n",
    "        if not self.is_empty():\n",
    "            return heapq.heappop(self.__queue)[2]\n",
    "        else:\n",
    "            raise IndexError(\"Невозможно удалить элементы\")\n",
    "        \n",
    "\n",
    "pq = PriorityQueue()\n",
    "pq.enqueue(\"t1\", 3)\n",
    "pq.enqueue(\"t2\", 1)\n",
    "pq.enqueue(\"t3\", 2)\n",
    "print(pq.dequeue())\n",
    "print(pq.dequeue())\n",
    "print(pq.dequeue())"
   ]
  },
  {
   "cell_type": "code",
   "execution_count": 26,
   "metadata": {},
   "outputs": [
    {
     "name": "stdout",
     "output_type": "stream",
     "text": [
      "0: [1]\n",
      "1: [0, 4]\n",
      "3: [4, 2]\n",
      "4: [3, 1]\n",
      "2: [3]\n"
     ]
    }
   ],
   "source": [
    "class Graph:\n",
    "    def __init__(self):\n",
    "        self.graph = {}\n",
    "    \n",
    "    def add_edge(self, u, v):\n",
    "        if u not in self.graph:\n",
    "            self.graph[u] = []\n",
    "        if v not in self.graph:\n",
    "            self.graph[v] = []\n",
    "        self.graph[u].append(v)\n",
    "        self.graph[v].append(u) #если неориентированый граф\n",
    "\n",
    "    def print_graph(self):\n",
    "        for node in self.graph:\n",
    "            print(f\"{node}: {self.graph[node]}\")\n",
    "\n",
    "\n",
    "g = Graph()\n",
    "g.add_edge(0, 1)\n",
    "g.add_edge(3, 4)\n",
    "g.add_edge(2, 3)\n",
    "g.add_edge(1, 4)\n",
    "g.print_graph()"
   ]
  }
 ],
 "metadata": {
  "kernelspec": {
   "display_name": "Python 3",
   "language": "python",
   "name": "python3"
  },
  "language_info": {
   "codemirror_mode": {
    "name": "ipython",
    "version": 3
   },
   "file_extension": ".py",
   "mimetype": "text/x-python",
   "name": "python",
   "nbconvert_exporter": "python",
   "pygments_lexer": "ipython3",
   "version": "3.11.9"
  }
 },
 "nbformat": 4,
 "nbformat_minor": 2
}

{
 "cells": [
  {
   "cell_type": "code",
   "execution_count": 1,
   "metadata": {},
   "outputs": [
    {
     "name": "stdout",
     "output_type": "stream",
     "text": [
      "4\n",
      "3\n",
      "2\n"
     ]
    }
   ],
   "source": [
    "my_list = []\n",
    "my_list.append(1)\n",
    "my_list.append(2)\n",
    "my_list.append(3)\n",
    "my_list.append(4)\n",
    "\n",
    "print(my_list.pop())\n",
    "print(my_list.pop())\n",
    "print(my_list.pop())"
   ]
  },
  {
   "cell_type": "code",
   "execution_count": 5,
   "metadata": {},
   "outputs": [
    {
     "name": "stdout",
     "output_type": "stream",
     "text": [
      "1 is added\n",
      "2 is added\n",
      "4 is added\n",
      "3 is added\n",
      "Удален: 3\n",
      "//////////////////////////////////////////\n",
      "Selected stack: [1, 2, 4]\n",
      "<__main__.Stack object at 0x00000196024F7C50>\n"
     ]
    }
   ],
   "source": [
    "class Stack:\n",
    "    def __init__(self):\n",
    "        self.__stack = []\n",
    "\n",
    "    def is_empty(self):\n",
    "        return len(self.__stack) == 0\n",
    "    \n",
    "\n",
    "    def push(self, item):\n",
    "        self.__stack.append(item)\n",
    "        print(f\"{item} is added\")\n",
    "\n",
    "\n",
    "    def pop(self):\n",
    "        if not self.is_empty():\n",
    "            popped_item = self.__stack.pop()\n",
    "            print(f\"Удален: {popped_item}\")\n",
    "        else:\n",
    "            print(\" is empty\")\n",
    "            return None\n",
    "        \n",
    "    \n",
    "    def check_last(self):\n",
    "        if not self.is_empty():\n",
    "            return self.__stack[-1]\n",
    "        else:\n",
    "            print(\" is empty\")\n",
    "            return None\n",
    "        \n",
    "    def size(self):\n",
    "        return len(self.__stack)\n",
    "    \n",
    "    def display(self):\n",
    "        print(f\"Selected stack: {self.__stack}\")\n",
    "\n",
    "my_stack = Stack()\n",
    "my_stack.push(1)\n",
    "my_stack.push(2)\n",
    "my_stack.push(4)\n",
    "my_stack.push(3)\n",
    "my_stack.pop()\n",
    "my_stack.is_empty()\n",
    "my_stack.check_last()\n",
    "print(\"//////////////////////////////////////////\")\n",
    "my_stack.display()\n"
   ]
  },
  {
   "cell_type": "code",
   "execution_count": 6,
   "metadata": {},
   "outputs": [
    {
     "name": "stdout",
     "output_type": "stream",
     "text": [
      "1\n",
      "2\n"
     ]
    }
   ],
   "source": [
    "my_list = []\n",
    "my_list.append(1)\n",
    "my_list.append(2)\n",
    "my_list.append(3)\n",
    "print(my_list.pop(0))\n",
    "print(my_list.pop(0))\n",
    "\n"
   ]
  },
  {
   "cell_type": "code",
   "execution_count": 11,
   "metadata": {},
   "outputs": [
    {
     "name": "stdout",
     "output_type": "stream",
     "text": [
      "1 is added\n",
      "2 is added\n",
      "3 is added\n",
      "4 is added\n",
      "Удален: 4\n",
      "Удален: 3\n",
      "2\n",
      "//////////////////////////////////////////\n",
      "Selected stack: [1, 2]\n"
     ]
    }
   ],
   "source": [
    "class Queue:\n",
    "\n",
    "    def __init__(self):\n",
    "        self.__Queue = []\n",
    "\n",
    "    def is_empty(self):\n",
    "        return len(self.__Queue) == 0\n",
    "    \n",
    "\n",
    "    def push(self, item):\n",
    "        self.__Queue.append(item)\n",
    "        print(f\"{item} is added\")\n",
    "\n",
    "\n",
    "    def pop(self):\n",
    "        if not self.is_empty():\n",
    "            popped_item = self.__Queue.pop()\n",
    "            print(f\"Удален: {popped_item}\")\n",
    "        else:\n",
    "            print(\" is empty\")\n",
    "            return None\n",
    "\n",
    "\n",
    "    def check_last(self):\n",
    "        if not self.is_empty():\n",
    "            return self.__Queue[0]\n",
    "        else:\n",
    "            print(\" is empty\")\n",
    "            return None\n",
    "\n",
    "    def size(self):\n",
    "        return len(self.__Queue)\n",
    "\n",
    "    def display(self):\n",
    "        print(f\"Selected stack: {self.__Queue}\")\n",
    "\n",
    "my_queue = Queue()\n",
    "my_queue.push(1)\n",
    "my_queue.push(2)\n",
    "my_queue.push(3)\n",
    "my_queue.push(4)\n",
    "my_queue.pop()\n",
    "my_queue.pop()\n",
    "print(my_queue.size())\n",
    "my_queue.check_last()\n",
    "print(\"//////////////////////////////////////////\")\n",
    "my_stack.display()\n"
   ]
  },
  {
   "cell_type": "code",
   "execution_count": 23,
   "metadata": {},
   "outputs": [
    {
     "name": "stdout",
     "output_type": "stream",
     "text": [
      "50\n",
      "3\n",
      "50\n",
      "3\n"
     ]
    }
   ],
   "source": [
    "class Node:\n",
    "    def __init__(self, key):\n",
    "        self.left = None\n",
    "        self.right = None\n",
    "        self.value = key\n",
    "\n",
    "class BinaryTree:\n",
    "    def __init__(self):\n",
    "        self.root = None\n",
    "\n",
    "    def insert(self, key):\n",
    "        if self.root is None:\n",
    "            self.root = Node(key)\n",
    "        else:\n",
    "            self.__insert_rec(self.root, key)\n",
    "\n",
    "    def __inorder_rec(self, node, result):\n",
    "        if node:\n",
    "            self.__inorder_rec(node.left, result)\n",
    "            result.append(node.value)\n",
    "            self.__inorder_rec(node.right, result)\n",
    "\n",
    "\n",
    "    def inorder_traversel(self):\n",
    "        result = []\n",
    "        self.__inorder_rec(self.root, result)\n",
    "        return result\n",
    "\n",
    "    def __insert_rec(self, node, key):\n",
    "        if key < node.value:\n",
    "            if node.left is None:\n",
    "                node.left = Node(key)\n",
    "            else:\n",
    "                self.__insert_rec(node.left, key)\n",
    "        else:\n",
    "            if node.right is None:\n",
    "                node.right = Node(key)\n",
    "            else:\n",
    "                self.__insert_rec(node.right, key)\n",
    "    def search(self, key):\n",
    "        return self.__search(self.root, key)\n",
    "    \n",
    "    def __search(self, node, key):\n",
    "        if node is None:\n",
    "            return False\n",
    "        if node.value == key:\n",
    "            return True\n",
    "        elif key < node.value:\n",
    "            return self.__search(node.left, key)\n",
    "        else:\n",
    "            return self.__search(node.right, key)\n",
    "    def is_empty(self): return self.root is None\n",
    "    def find_min(self):\n",
    "        if self.is_empty():return None\n",
    "        return self.__find_min(self.root)\n",
    "    def __find_min(self,node):\n",
    "        while node.left:\n",
    "            node = node.left\n",
    "        return node.value\n",
    "    def find_max(self):\n",
    "        if self.is_empty():return None\n",
    "        return self.__find_max(self.root)\n",
    "    def __find_max(self,node):\n",
    "        while node.right:\n",
    "            node = node.right\n",
    "        return node.value\n",
    "\n",
    "    \n",
    "\n",
    "\n",
    "\n",
    "bt = BinaryTree()\n",
    "elements = [24, 20, 13, 50, 3, 32, 6]\n",
    "for el in elements:\n",
    "    bt.insert(el)\n",
    "\n",
    "\n",
    "\n",
    "\n",
    "print(bt.inorder_traversel()[-1])\n",
    "print(bt.inorder_traversel()[0])\n",
    "print(bt.find_max())\n",
    "print(bt.find_min())\n"
   ]
  },
  {
   "cell_type": "code",
   "execution_count": 18,
   "metadata": {},
   "outputs": [
    {
     "name": "stdout",
     "output_type": "stream",
     "text": [
      "[[], [[1]]]\n",
      "[[2], [[[3], [3.5]], [4]]]\n",
      "[5]\n"
     ]
    }
   ],
   "source": [
    "numbers = [\n",
    "    [\n",
    "        [\n",
    "\n",
    "        ],\n",
    "        [\n",
    "            [1]\n",
    "        ]\n",
    "    ],\n",
    "    [\n",
    "        [2],\n",
    "        [\n",
    "            [\n",
    "                [3],\n",
    "                [3.5]\n",
    "            ],\n",
    "            [4]\n",
    "        ]\n",
    "    ],\n",
    "    [5]\n",
    "]\n",
    "def print_elements(num):\n",
    "    for i in num:\n",
    "        if type(i) == list:\n",
    "            print_elements(i)\n",
    "        else:\n",
    "            print(i)\n",
    "            \n",
    "print_elements(numbers)"
   ]
  },
  {
   "cell_type": "code",
   "execution_count": 3,
   "metadata": {},
   "outputs": [
    {
     "name": "stdout",
     "output_type": "stream",
     "text": [
      "t2\n",
      "t3\n",
      "t1\n"
     ]
    }
   ],
   "source": [
    "import heapq\n",
    "class PriorityQueue:\n",
    "    def __init__(self):\n",
    "        self.__queue = []\n",
    "        self.counter = 0 #cчетчик для одинаковых приоритетов\n",
    "    def enqueue(self, item, priority): #adding in queue\n",
    "        heapq.heappush(self.__queue, (priority, self.counter, item))\n",
    "        self.counter += 1 \n",
    "\n",
    "    def is_empty(self):\n",
    "        return len(self.__queue) == 0\n",
    "\n",
    "    def dequeue(self):\n",
    "        if not self.is_empty():\n",
    "            return heapq.heappop(self.__queue)[2]\n",
    "        else:\n",
    "            raise IndexError(\"Невозможно удалить элементы\")\n",
    "        \n",
    "\n",
    "pq = PriorityQueue()\n",
    "pq.enqueue(\"t1\", 3)\n",
    "pq.enqueue(\"t2\", 1)\n",
    "pq.enqueue(\"t3\", 2)\n",
    "print(pq.dequeue())\n",
    "print(pq.dequeue())\n",
    "print(pq.dequeue())"
   ]
  },
  {
   "cell_type": "code",
   "execution_count": 26,
   "metadata": {},
   "outputs": [
    {
     "name": "stdout",
     "output_type": "stream",
     "text": [
      "0: [1]\n",
      "1: [0, 4]\n",
      "3: [4, 2]\n",
      "4: [3, 1]\n",
      "2: [3]\n"
     ]
    }
   ],
   "source": [
    "class Graph:\n",
    "    def __init__(self):\n",
    "        self.graph = {}\n",
    "    \n",
    "    def add_edge(self, u, v):\n",
    "        if u not in self.graph:\n",
    "            self.graph[u] = []\n",
    "        if v not in self.graph:\n",
    "            self.graph[v] = []\n",
    "        self.graph[u].append(v)\n",
    "        self.graph[v].append(u) #если неориентированый граф, можно снести\n",
    "\n",
    "    def print_graph(self):\n",
    "        for node in self.graph:\n",
    "            print(f\"{node}: {self.graph[node]}\")\n",
    "\n",
    "\n",
    "g = Graph()\n",
    "g.add_edge(0, 1)\n",
    "g.add_edge(3, 4)\n",
    "g.add_edge(2, 3)\n",
    "g.add_edge(1, 4)\n",
    "g.print_graph()"
   ]
  },
  {
   "cell_type": "code",
   "execution_count": 2,
   "metadata": {},
   "outputs": [
    {
     "name": "stdout",
     "output_type": "stream",
     "text": [
      "Вершина: A, Соседи:B, C\n",
      "Вершина: B, Соседи:C, D, A\n",
      "Вершина: C, Соседи:A, B\n",
      "Вершина: D, Соседи:B\n"
     ]
    }
   ],
   "source": [
    "graph = {\n",
    "    \"A\":[\"B\", \"C\"],\n",
    "    \"B\":[\"C\", \"D\", \"A\"],\n",
    "    \"C\":[\"A\", \"B\"],\n",
    "    \"D\":[\"B\"]\n",
    "}\n",
    "for i, n in graph.items():\n",
    "    print(f\"Вершина: {i}, Соседи:{', '.join(n)}\")\n"
   ]
  },
  {
   "cell_type": "code",
   "execution_count": 3,
   "metadata": {},
   "outputs": [
    {
     "name": "stdout",
     "output_type": "stream",
     "text": [
      "[0, 1, 1, 0]\n",
      "[1, 0, 1, 1]\n",
      "[1, 1, 0, 0]\n",
      "[0, 1, 0, 0]\n"
     ]
    }
   ],
   "source": [
    "graph_matrix = [\n",
    "    [0, 1, 1, 0],# A with B, C\n",
    "    [1, 0, 1, 1],\n",
    "    [1, 1, 0, 0],\n",
    "    [0, 1, 0, 0]\n",
    "]\n",
    "for i in graph_matrix:\n",
    "    print(i)"
   ]
  },
  {
   "cell_type": "code",
   "execution_count": 18,
   "metadata": {},
   "outputs": [
    {
     "name": "stdout",
     "output_type": "stream",
     "text": [
      "Ребро A -> B, вес 4\n",
      "Ребро A -> D, вес 2\n",
      "Ребро B -> C, вес 3\n"
     ]
    },
    {
     "data": {
      "image/png": "[encoded data removed]",
      "text/plain": [
       "<Figure size 640x480 with 1 Axes>"
      ]
     },
     "metadata": {},
     "output_type": "display_data"
    }
   ],
   "source": [
    "import networkx as nx\n",
    "from matplotlib import pyplot as plt\n",
    "\n",
    "# G = nx.Graph()\n",
    "# G.add_edges_from([{\"A\", \"B\"}, {\"A\", \"C\"}, {\"B\", \"D\"}, {\"C\", \"D\"}])\n",
    "# print(\"Ребра без графов\", G.edges())\n",
    "# nx.draw(G, with_labels=True, node_color = \"lightblue\", edge_color = \"lightgray\")\n",
    "# plt.show()\n",
    "G = nx.DiGraph()\n",
    "G.add_edge(\"A\", \"B\", weight = 4)\n",
    "G.add_edge(\"B\", \"C\", weight = 3)\n",
    "G.add_edge(\"A\", \"D\", weight = 2)\n",
    "for u,v,data in G.edges(data=True):\n",
    "    print(f\"Ребро {u} -> {v}, вес {data['weight']}\")\n",
    "pos = nx.spring_layout(G)\n",
    "\n",
    "nx.draw(G, pos,  with_labels = True, node_color = 'lightgreen', edge_color = \"red\")\n",
    "\n",
    "edge_labels = nx.get_edge_attributes(G, 'weight')\n",
    "nx.draw_networkx_edge_labels(G, pos, edge_labels = edge_labels)\n",
    "plt.show()"
   ]
  },
  {
   "cell_type": "code",
   "execution_count": 23,
   "metadata": {},
   "outputs": [
    {
     "data": {
      "image/png": "[encoded data removed]",
      "text/plain": [
       "<Figure size 640x480 with 1 Axes>"
      ]
     },
     "metadata": {},
     "output_type": "display_data"
    },
    {
     "ename": "NodeNotFound",
     "evalue": "Source A is not in G",
     "output_type": "error",
     "traceback": [
      "\u001b[31m---------------------------------------------------------------------------\u001b[39m",
      "\u001b[31mNodeNotFound\u001b[39m                              Traceback (most recent call last)",
      "\u001b[36mCell\u001b[39m\u001b[36m \u001b[39m\u001b[32mIn[23]\u001b[39m\u001b[32m, line 21\u001b[39m\n\u001b[32m     16\u001b[39m nx.draw_networkx_edge_labels(G, pos, edge_labels = edge_labels)\n\u001b[32m     17\u001b[39m plt.show()\n\u001b[32m---> \u001b[39m\u001b[32m21\u001b[39m shortest_path = \u001b[43mnx\u001b[49m\u001b[43m.\u001b[49m\u001b[43mshortest_path\u001b[49m\u001b[43m(\u001b[49m\u001b[43mG\u001b[49m\u001b[43m,\u001b[49m\u001b[43m \u001b[49m\u001b[43msource\u001b[49m\u001b[43m=\u001b[49m\u001b[33;43m\"\u001b[39;49m\u001b[33;43mA\u001b[39;49m\u001b[33;43m\"\u001b[39;49m\u001b[43m,\u001b[49m\u001b[43m \u001b[49m\u001b[43mtarget\u001b[49m\u001b[43m=\u001b[49m\u001b[33;43m\"\u001b[39;49m\u001b[33;43mB\u001b[39;49m\u001b[33;43m\"\u001b[39;49m\u001b[43m)\u001b[49m\n\u001b[32m     22\u001b[39m \u001b[38;5;28mprint\u001b[39m(\u001b[33mf\u001b[39m\u001b[33m\"\u001b[39m\u001b[33mКротчайший путь: \u001b[39m\u001b[38;5;132;01m{\u001b[39;00mshortest_path\u001b[38;5;132;01m}\u001b[39;00m\u001b[33m\"\u001b[39m)\n",
      "\u001b[36mFile \u001b[39m\u001b[32m<class 'networkx.utils.decorators.argmap'> compilation 16:3\u001b[39m, in \u001b[36margmap_shortest_path_13\u001b[39m\u001b[34m(G, source, target, weight, method, backend, **backend_kwargs)\u001b[39m\n\u001b[32m      1\u001b[39m \u001b[38;5;28;01mimport\u001b[39;00m\u001b[38;5;250m \u001b[39m\u001b[34;01mbz2\u001b[39;00m\n\u001b[32m      2\u001b[39m \u001b[38;5;28;01mimport\u001b[39;00m\u001b[38;5;250m \u001b[39m\u001b[34;01mcollections\u001b[39;00m\n\u001b[32m----> \u001b[39m\u001b[32m3\u001b[39m \u001b[38;5;28;01mimport\u001b[39;00m\u001b[38;5;250m \u001b[39m\u001b[34;01mgzip\u001b[39;00m\n\u001b[32m      4\u001b[39m \u001b[38;5;28;01mimport\u001b[39;00m\u001b[38;5;250m \u001b[39m\u001b[34;01minspect\u001b[39;00m\n\u001b[32m      5\u001b[39m \u001b[38;5;28;01mimport\u001b[39;00m\u001b[38;5;250m \u001b[39m\u001b[34;01mitertools\u001b[39;00m\n",
      "\u001b[36mFile \u001b[39m\u001b[32m~\\AppData\\Local\\Packages\\PythonSoftwareFoundation.Python.3.11_qbz5n2kfra8p0\\LocalCache\\local-packages\\Python311\\site-packages\\networkx\\utils\\backends.py:967\u001b[39m, in \u001b[36m_dispatchable.__call__\u001b[39m\u001b[34m(self, backend, *args, **kwargs)\u001b[39m\n\u001b[32m    965\u001b[39m     \u001b[38;5;28;01mif\u001b[39;00m backend \u001b[38;5;129;01mis\u001b[39;00m \u001b[38;5;129;01mnot\u001b[39;00m \u001b[38;5;28;01mNone\u001b[39;00m \u001b[38;5;129;01mand\u001b[39;00m backend != \u001b[33m\"\u001b[39m\u001b[33mnetworkx\u001b[39m\u001b[33m\"\u001b[39m:\n\u001b[32m    966\u001b[39m         \u001b[38;5;28;01mraise\u001b[39;00m \u001b[38;5;167;01mImportError\u001b[39;00m(\u001b[33mf\u001b[39m\u001b[33m\"\u001b[39m\u001b[33m'\u001b[39m\u001b[38;5;132;01m{\u001b[39;00mbackend\u001b[38;5;132;01m}\u001b[39;00m\u001b[33m'\u001b[39m\u001b[33m backend is not installed\u001b[39m\u001b[33m\"\u001b[39m)\n\u001b[32m--> \u001b[39m\u001b[32m967\u001b[39m     \u001b[38;5;28;01mreturn\u001b[39;00m \u001b[38;5;28;43mself\u001b[39;49m\u001b[43m.\u001b[49m\u001b[43morig_func\u001b[49m\u001b[43m(\u001b[49m\u001b[43m*\u001b[49m\u001b[43margs\u001b[49m\u001b[43m,\u001b[49m\u001b[43m \u001b[49m\u001b[43m*\u001b[49m\u001b[43m*\u001b[49m\u001b[43mkwargs\u001b[49m\u001b[43m)\u001b[49m\n\u001b[32m    969\u001b[39m \u001b[38;5;66;03m# Use `backend_name` in this function instead of `backend`.\u001b[39;00m\n\u001b[32m    970\u001b[39m \u001b[38;5;66;03m# This is purely for aesthetics and to make it easier to search for this\u001b[39;00m\n\u001b[32m    971\u001b[39m \u001b[38;5;66;03m# variable since \"backend\" is used in many comments and log/error messages.\u001b[39;00m\n\u001b[32m    972\u001b[39m backend_name = backend\n",
      "\u001b[36mFile \u001b[39m\u001b[32m~\\AppData\\Local\\Packages\\PythonSoftwareFoundation.Python.3.11_qbz5n2kfra8p0\\LocalCache\\local-packages\\Python311\\site-packages\\networkx\\algorithms\\shortest_paths\\generic.py:183\u001b[39m, in \u001b[36mshortest_path\u001b[39m\u001b[34m(G, source, target, weight, method)\u001b[39m\n\u001b[32m    180\u001b[39m \u001b[38;5;28;01melse\u001b[39;00m:\n\u001b[32m    181\u001b[39m     \u001b[38;5;66;03m# Find shortest source-target path.\u001b[39;00m\n\u001b[32m    182\u001b[39m     \u001b[38;5;28;01mif\u001b[39;00m method == \u001b[33m\"\u001b[39m\u001b[33munweighted\u001b[39m\u001b[33m\"\u001b[39m:\n\u001b[32m--> \u001b[39m\u001b[32m183\u001b[39m         paths = \u001b[43mnx\u001b[49m\u001b[43m.\u001b[49m\u001b[43mbidirectional_shortest_path\u001b[49m\u001b[43m(\u001b[49m\u001b[43mG\u001b[49m\u001b[43m,\u001b[49m\u001b[43m \u001b[49m\u001b[43msource\u001b[49m\u001b[43m,\u001b[49m\u001b[43m \u001b[49m\u001b[43mtarget\u001b[49m\u001b[43m)\u001b[49m\n\u001b[32m    184\u001b[39m     \u001b[38;5;28;01melif\u001b[39;00m method == \u001b[33m\"\u001b[39m\u001b[33mdijkstra\u001b[39m\u001b[33m\"\u001b[39m:\n\u001b[32m    185\u001b[39m         _, paths = nx.bidirectional_dijkstra(G, source, target, weight)\n",
      "\u001b[36mFile \u001b[39m\u001b[32m<class 'networkx.utils.decorators.argmap'> compilation 20:3\u001b[39m, in \u001b[36margmap_bidirectional_shortest_path_17\u001b[39m\u001b[34m(G, source, target, backend, **backend_kwargs)\u001b[39m\n\u001b[32m      1\u001b[39m \u001b[38;5;28;01mimport\u001b[39;00m\u001b[38;5;250m \u001b[39m\u001b[34;01mbz2\u001b[39;00m\n\u001b[32m      2\u001b[39m \u001b[38;5;28;01mimport\u001b[39;00m\u001b[38;5;250m \u001b[39m\u001b[34;01mcollections\u001b[39;00m\n\u001b[32m----> \u001b[39m\u001b[32m3\u001b[39m \u001b[38;5;28;01mimport\u001b[39;00m\u001b[38;5;250m \u001b[39m\u001b[34;01mgzip\u001b[39;00m\n\u001b[32m      4\u001b[39m \u001b[38;5;28;01mimport\u001b[39;00m\u001b[38;5;250m \u001b[39m\u001b[34;01minspect\u001b[39;00m\n\u001b[32m      5\u001b[39m \u001b[38;5;28;01mimport\u001b[39;00m\u001b[38;5;250m \u001b[39m\u001b[34;01mitertools\u001b[39;00m\n",
      "\u001b[36mFile \u001b[39m\u001b[32m~\\AppData\\Local\\Packages\\PythonSoftwareFoundation.Python.3.11_qbz5n2kfra8p0\\LocalCache\\local-packages\\Python311\\site-packages\\networkx\\utils\\backends.py:967\u001b[39m, in \u001b[36m_dispatchable.__call__\u001b[39m\u001b[34m(self, backend, *args, **kwargs)\u001b[39m\n\u001b[32m    965\u001b[39m     \u001b[38;5;28;01mif\u001b[39;00m backend \u001b[38;5;129;01mis\u001b[39;00m \u001b[38;5;129;01mnot\u001b[39;00m \u001b[38;5;28;01mNone\u001b[39;00m \u001b[38;5;129;01mand\u001b[39;00m backend != \u001b[33m\"\u001b[39m\u001b[33mnetworkx\u001b[39m\u001b[33m\"\u001b[39m:\n\u001b[32m    966\u001b[39m         \u001b[38;5;28;01mraise\u001b[39;00m \u001b[38;5;167;01mImportError\u001b[39;00m(\u001b[33mf\u001b[39m\u001b[33m\"\u001b[39m\u001b[33m'\u001b[39m\u001b[38;5;132;01m{\u001b[39;00mbackend\u001b[38;5;132;01m}\u001b[39;00m\u001b[33m'\u001b[39m\u001b[33m backend is not installed\u001b[39m\u001b[33m\"\u001b[39m)\n\u001b[32m--> \u001b[39m\u001b[32m967\u001b[39m     \u001b[38;5;28;01mreturn\u001b[39;00m \u001b[38;5;28;43mself\u001b[39;49m\u001b[43m.\u001b[49m\u001b[43morig_func\u001b[49m\u001b[43m(\u001b[49m\u001b[43m*\u001b[49m\u001b[43margs\u001b[49m\u001b[43m,\u001b[49m\u001b[43m \u001b[49m\u001b[43m*\u001b[49m\u001b[43m*\u001b[49m\u001b[43mkwargs\u001b[49m\u001b[43m)\u001b[49m\n\u001b[32m    969\u001b[39m \u001b[38;5;66;03m# Use `backend_name` in this function instead of `backend`.\u001b[39;00m\n\u001b[32m    970\u001b[39m \u001b[38;5;66;03m# This is purely for aesthetics and to make it easier to search for this\u001b[39;00m\n\u001b[32m    971\u001b[39m \u001b[38;5;66;03m# variable since \"backend\" is used in many comments and log/error messages.\u001b[39;00m\n\u001b[32m    972\u001b[39m backend_name = backend\n",
      "\u001b[36mFile \u001b[39m\u001b[32m~\\AppData\\Local\\Packages\\PythonSoftwareFoundation.Python.3.11_qbz5n2kfra8p0\\LocalCache\\local-packages\\Python311\\site-packages\\networkx\\algorithms\\shortest_paths\\unweighted.py:244\u001b[39m, in \u001b[36mbidirectional_shortest_path\u001b[39m\u001b[34m(G, source, target)\u001b[39m\n\u001b[32m    205\u001b[39m \u001b[38;5;250m\u001b[39m\u001b[33;03m\"\"\"Returns a list of nodes in a shortest path between source and target.\u001b[39;00m\n\u001b[32m    206\u001b[39m \n\u001b[32m    207\u001b[39m \u001b[33;03mParameters\u001b[39;00m\n\u001b[32m   (...)\u001b[39m\u001b[32m    240\u001b[39m \u001b[33;03mThis algorithm is used by shortest_path(G, source, target).\u001b[39;00m\n\u001b[32m    241\u001b[39m \u001b[33;03m\"\"\"\u001b[39;00m\n\u001b[32m    243\u001b[39m \u001b[38;5;28;01mif\u001b[39;00m source \u001b[38;5;129;01mnot\u001b[39;00m \u001b[38;5;129;01min\u001b[39;00m G:\n\u001b[32m--> \u001b[39m\u001b[32m244\u001b[39m     \u001b[38;5;28;01mraise\u001b[39;00m nx.NodeNotFound(\u001b[33mf\u001b[39m\u001b[33m\"\u001b[39m\u001b[33mSource \u001b[39m\u001b[38;5;132;01m{\u001b[39;00msource\u001b[38;5;132;01m}\u001b[39;00m\u001b[33m is not in G\u001b[39m\u001b[33m\"\u001b[39m)\n\u001b[32m    246\u001b[39m \u001b[38;5;28;01mif\u001b[39;00m target \u001b[38;5;129;01mnot\u001b[39;00m \u001b[38;5;129;01min\u001b[39;00m G:\n\u001b[32m    247\u001b[39m     \u001b[38;5;28;01mraise\u001b[39;00m nx.NodeNotFound(\u001b[33mf\u001b[39m\u001b[33m\"\u001b[39m\u001b[33mTarget \u001b[39m\u001b[38;5;132;01m{\u001b[39;00mtarget\u001b[38;5;132;01m}\u001b[39;00m\u001b[33m is not in G\u001b[39m\u001b[33m\"\u001b[39m)\n",
      "\u001b[31mNodeNotFound\u001b[39m: Source A is not in G"
     ]
    }
   ],
   "source": [
    "import networkx as nx\n",
    "from matplotlib import pyplot as plt\n",
    "G = nx.Graph()\n",
    "G.add_edge(\"Москва\", \"Санкт-Петербург\", weight =700)\n",
    "G.add_edge(\"Санкт-Петербург\", \"Нижний Новгород\", weight =1000)\n",
    "G.add_edge(\"Санкт-Петербург\", \"Казань\", weight =650)\n",
    "G.add_edge(\"Москва\", \"Казань\", weight =800)\n",
    "G.add_edge(\"Москва\", \"Нижний Новгород\", weight =400)\n",
    "G.add_edge(\"Нижний Новгород\", \"Казань\", weight =320)\n",
    "\n",
    "pos = nx.spring_layout(G)\n",
    "\n",
    "nx.draw(G, pos,  with_labels = True, node_color = 'lightgreen', edge_color = \"red\")\n",
    "\n",
    "edge_labels = nx.get_edge_attributes(G, 'weight')\n",
    "nx.draw_networkx_edge_labels(G, pos, edge_labels = edge_labels)\n",
    "plt.show()\n",
    "\n",
    "\n",
    "\n",
    "shortest_path = nx.shortest_path(G, source=\"A\", target=\"B\")\n",
    "print(f\"Кротчайший путь: {shortest_path}\")"
   ]
  },
  {
   "cell_type": "code",
   "execution_count": 30,
   "metadata": {},
   "outputs": [
    {
     "data": {
      "image/png": "[encoded data removed]",
      "text/plain": [
       "<Figure size 640x480 with 1 Axes>"
      ]
     },
     "metadata": {},
     "output_type": "display_data"
    }
   ],
   "source": [
    "import networkx as nx\n",
    "from matplotlib import pyplot as plt\n",
    "G = nx.Graph()\n",
    "G.add_edges_from([{\"Moscow\", \"SPB\"}, {\"SPB\", \"KAZAN\"}])\n",
    "G.add_edges_from([{\"Camara\", \"Novgorod\"}])\n",
    "pos = nx.spring_layout(G)\n",
    "\n",
    "nx.draw(G, pos,  with_labels = True, node_color = 'lightgreen', edge_color = \"red\")\n",
    "\n",
    "edge_labels = nx.get_edge_attributes(G, 'weight')\n",
    "nx.draw_networkx_edge_labels(G, pos, edge_labels = edge_labels)\n",
    "plt.show()\n"
   ]
  },
  {
   "cell_type": "code",
   "execution_count": 32,
   "metadata": {},
   "outputs": [
    {
     "name": "stdout",
     "output_type": "stream",
     "text": [
      "Распакованые данные: [5, 14, 28, 33, 52]\n",
      "Распакованые данные: [5, 14, 28, 33, 52]\n"
     ]
    }
   ],
   "source": [
    "class Node:\n",
    "    def __init__(self, key):\n",
    "        self.left = None\n",
    "        self.right = None\n",
    "        self.value = key\n",
    "\n",
    "class BinaryTree:\n",
    "    def __init__(self):\n",
    "        self.root = None\n",
    "\n",
    "    def insert(self, key):\n",
    "        if self.root is None:\n",
    "            self.root = Node(key)\n",
    "        else:\n",
    "            self.__insert_rec(self.root, key)\n",
    "\n",
    "    def __inorder_rec(self, node, result):\n",
    "        if node:\n",
    "            self.__inorder_rec(node.left, result)\n",
    "            result.append(node.value)\n",
    "            self.__inorder_rec(node.right, result)\n",
    "\n",
    "\n",
    "    def inorder_traversel(self):\n",
    "        result = []\n",
    "        self.__inorder_rec(self.root, result)\n",
    "        return result\n",
    "\n",
    "    def __insert_rec(self, node, key):\n",
    "        if key < node.value:\n",
    "            if node.left is None:\n",
    "                node.left = Node(key)\n",
    "            else:\n",
    "                self.__insert_rec(node.left, key)\n",
    "        else:\n",
    "            if node.right is None:\n",
    "                node.right = Node(key)\n",
    "            else:\n",
    "                self.__insert_rec(node.right, key)\n",
    "    def search(self, key):\n",
    "        return self.__search(self.root, key)\n",
    "    \n",
    "    def __search(self, node, key):\n",
    "        if node is None:\n",
    "            return False\n",
    "        if node.value == key:\n",
    "            return True\n",
    "        elif key < node.value:\n",
    "            return self.__search(node.left, key)\n",
    "        else:\n",
    "            return self.__search(node.right, key)\n",
    "    def is_empty(self): return self.root is None\n",
    "    def find_min(self):\n",
    "        if self.is_empty():return None\n",
    "        return self.__find_min(self.root)\n",
    "    def __find_min(self,node):\n",
    "        while node.left:\n",
    "            node = node.left\n",
    "        return node.value\n",
    "    def find_max(self):\n",
    "        if self.is_empty():return None\n",
    "        return self.__find_max(self.root)\n",
    "    def __find_max(self,node):\n",
    "        while node.right:\n",
    "            node = node.right\n",
    "        return node.value\n",
    "    def pack_data(self):\n",
    "        return self.inorder_traversel()\n",
    "\n",
    "    def unpack_data(self, packed_data):\n",
    "        for data in packed_data:\n",
    "            self.insert(data)\n",
    "\n",
    "bt = BinaryTree()\n",
    "bt.insert(5)\n",
    "bt.insert(14)\n",
    "bt.insert(28)\n",
    "bt.insert(33)\n",
    "bt.insert(52)\n",
    "\n",
    "packed_data = bt.pack_data()\n",
    "print(\"Распакованые данные:\", packed_data)\n",
    "new_bt = BinaryTree()\n",
    "new_bt.unpack_data(packed_data)\n",
    "new_packed_data = new_bt.pack_data()\n",
    "print(\"Распакованые данные:\", new_packed_data)"
   ]
  },
  {
   "cell_type": "code",
   "execution_count": 33,
   "metadata": {},
   "outputs": [
    {
     "name": "stdout",
     "output_type": "stream",
     "text": [
      "hello2\n",
      "hello1\n",
      "hello2\n"
     ]
    }
   ],
   "source": [
    "class Node: #Node(Using once)\n",
    "    def __init__(self, data,):\n",
    "        self.data = data\n",
    "        self.prev = None\n",
    "        self.next = None\n",
    "\n",
    "class UndoRedo: # Main class\n",
    "    def __init__(self):\n",
    "        self.current = None\n",
    "    def add_change(self, data):\n",
    "        new_node = Node(data)\n",
    "        if self.current == None:\n",
    "            self.current = new_node\n",
    "        else:\n",
    "            self.current.next = new_node\n",
    "            new_node.prev = self.current\n",
    "            self.current = new_node\n",
    "\n",
    "    def undo(self):\n",
    "        if self.current and self.current.prev:\n",
    "            self.current = self.current.prev\n",
    "        return self.current.data if self.current else None\n",
    "    \n",
    "    \n",
    "    def redo(self):\n",
    "        if self.current and self.current.next:\n",
    "            self.current = self.current.next\n",
    "        return self.current.data if self.current else None\n",
    "    \n",
    "\n",
    "#UserCode\n",
    "    \n",
    "ur = UndoRedo()\n",
    "ur.add_change(\"hello1\")\n",
    "ur.add_change(\"hello2\")\n",
    "ur.add_change(\"hello3\")\n",
    "print(ur.undo())\n",
    "print(ur.undo())\n",
    "print(ur.redo())"
   ]
  },
  {
   "cell_type": "code",
   "execution_count": 3,
   "metadata": {},
   "outputs": [
    {
     "data": {
      "text/plain": [
       "'https://example3.com'"
      ]
     },
     "execution_count": 3,
     "metadata": {},
     "output_type": "execute_result"
    }
   ],
   "source": [
    "\"\"\"Двусвязный список\"\"\"\n",
    "class PageNode:\n",
    "    def __init__(self, url):\n",
    "        self.url = url\n",
    "        self.next = None\n",
    "        self.prev = None\n",
    "\n",
    "class HistoryList:\n",
    "    def __init__(self) -> None:\n",
    "        self.head = None # Голова списка (первая страница)   \n",
    "        self.tail = None # Хвост списка (последняя страница)      \n",
    "        self.current = None # Текущая страница\n",
    "\n",
    "    def add_page(self, url):\n",
    "        new_page = PageNode(url)\n",
    "\n",
    "        if not self.head:  # Если список пуст, добавляем страницу как единственную\n",
    "            self.head = new_page\n",
    "            self.tail = new_page\n",
    "            self.current = new_page\n",
    "\n",
    "        else:\n",
    "            # У предыдущей страницы его следующей страницей будет new_page\n",
    "            self.tail.next = new_page  # Устанавливаем ссылку с последней страницы\n",
    "            # У новой страницы ее предыдущей страницей будет self.tail\n",
    "            new_page.prev = self.tail # Устанавливаем ссылку на предыдущую страницу \n",
    "            self.tail = new_page # обновляем хвост списка\n",
    "            self.current = new_page # Обновляем текущую страницу\n",
    "\n",
    "\n",
    "    def move_back(self):\n",
    "        # Существует ли текущая страница и предыдущая страница\n",
    "        if self.current and self.current.prev:\n",
    "            self.current = self.current.prev   # Теперь теекущая страница - прошлая   \n",
    "        else:\n",
    "            print( \"Нет предыдущей страницы\") \n",
    "\n",
    "    def move_forward(self):\n",
    "        # Существует ли текущая страница и следующая страница\n",
    "        if self.current and self.current.next:\n",
    "            self.current = self.current.next   # Теперь текущая страница - следующая   \n",
    "        else:\n",
    "            print( \"Нет следующей страницы\")         \n",
    "\n",
    "    def get_current_page(self):\n",
    "        return self.current.url if self.current else \"История пуста\"  \n",
    "\n",
    "    def print_history(self):\n",
    "        history = []\n",
    "        current_page = self.head\n",
    "        while current_page:\n",
    "            history.append(current_page.url)\n",
    "            current_page = current_page.next\n",
    "        return history    \n",
    "\n",
    "\n",
    "history = HistoryList()\n",
    "history.add_page(\"https://example1.com\")\n",
    "history.add_page(\"https://example2.com\")\n",
    "history.add_page(\"https://example3.com\")\n",
    "history.add_page(\"https://example4.com\")\n",
    "history.move_back()\n",
    "history.get_current_page()"
   ]
  },
  {
   "cell_type": "code",
   "execution_count": 5,
   "metadata": {},
   "outputs": [
    {
     "name": "stdout",
     "output_type": "stream",
     "text": [
      "Игра: Выбираем меч\n",
      "Экепирую оружие не зная его деталей \n",
      " Создатель: вы экипировали и использовали Меч для ближнего боя\n",
      "Игра:Выбираем лук\n",
      "Экепирую оружие не зная его деталей \n",
      " Создатель: вы экипировали и использовали Лук для дальнего боя\n"
     ]
    }
   ],
   "source": [
    "from abc import ABC, abstractmethod\n",
    "\n",
    "class Weapon(ABC):\n",
    "    @abstractmethod\n",
    "    def use(self) -> str:\n",
    "        pass\n",
    "\n",
    "class Sword(Weapon):\n",
    "    def use(self) ->str:\n",
    "        return \"Меч для ближнего боя\"\n",
    "    \n",
    "class Bow(Weapon):\n",
    "    def use(self) ->str:\n",
    "        return \"Лук для дальнего боя\"\n",
    "\n",
    "class WeaponCreator(ABC):\n",
    "    @abstractmethod\n",
    "    def create_weapon(self) -> Weapon:\n",
    "        pass\n",
    "\n",
    "\n",
    "    def use_weapon(self) -> str:\n",
    "        weapon = self.create_weapon()\n",
    "        return f\"Создатель: вы экипировали и использовали {weapon.use()}\"\n",
    "\n",
    "class SwordCreator(WeaponCreator):\n",
    "    def create_weapon(self) -> Weapon:\n",
    "        return Sword()\n",
    "class BowCreator(WeaponCreator):\n",
    "    def create_weapon(self) -> Weapon:\n",
    "        return Bow()\n",
    "    \n",
    "def equip_weapon(creator: WeaponCreator):\n",
    "    print(f\"Экепирую оружие не зная его деталей \\n {creator.use_weapon()}\")\n",
    "\n",
    "print(\"Игра: Выбираем меч\")\n",
    "equip_weapon(SwordCreator())\n",
    "print(\"Игра:Выбираем лук\")\n",
    "equip_weapon(BowCreator())\n"
   ]
  },
  {
   "cell_type": "code",
   "execution_count": 4,
   "metadata": {},
   "outputs": [
    {
     "name": "stdout",
     "output_type": "stream",
     "text": [
      "Использование фабрики на Windows\n",
      "Кнопка на Windose нажата\n",
      "Окно на Windose отрисовано\n",
      "Использование фабрики на MacOS\n",
      "Кнопка на MacOS нажата\n",
      "Окно на MacOS отрисовано\n"
     ]
    }
   ],
   "source": [
    "\"\"\"АБСТРАКТНАЯ ФАБРИКА\"\"\"\n",
    "from abc import ABC, abstractmethod\n",
    "class Button(ABC):\n",
    "    @abstractmethod\n",
    "    def click(self):\n",
    "        pass\n",
    "\n",
    "class Window(ABC):\n",
    "    @abstractmethod\n",
    "    def render(self):\n",
    "        pass\n",
    "\n",
    "class WindowsButton(Button):\n",
    "    def click(self):\n",
    "        return \"Кнопка на Windose нажата\"\n",
    "    \n",
    "    \n",
    "class WindowsWindow(Window):\n",
    "    def render(self):\n",
    "        return \"Окно на Windose отрисовано\"\n",
    "    \n",
    "class MacOSButton(Button):\n",
    "    def click(self):\n",
    "        return \"Кнопка на MacOS нажата\"\n",
    "    \n",
    "    \n",
    "class MacOSWindow(Window):\n",
    "    def render(self):\n",
    "        return \"Окно на MacOS отрисовано\"\n",
    "    \n",
    "\n",
    "class GUIFactory(ABC):\n",
    "    @abstractmethod\n",
    "    def create_button(self):\n",
    "        pass\n",
    "    @abstractmethod\n",
    "    def create_window(self):\n",
    "        pass\n",
    "\n",
    "class WindowsFactory(GUIFactory):\n",
    "    def create_button(self):\n",
    "        return WindowsButton()\n",
    "    def create_window(self):\n",
    "        return WindowsWindow()\n",
    "    \n",
    "class MacOSFactory(GUIFactory):\n",
    "    def create_button(self):\n",
    "        return MacOSButton()\n",
    "    def create_window(self):\n",
    "        return MacOSWindow()\n",
    "    \n",
    "\n",
    "def client_code(factory: GUIFactory):\n",
    "    button = factory.create_button()\n",
    "    window = factory.create_window()\n",
    "    print(button.click())\n",
    "    print(window.render())\n",
    "\n",
    "print(\"Использование фабрики на Windows\")\n",
    "windows_factory = WindowsFactory()\n",
    "client_code(windows_factory)\n",
    "print(\"Использование фабрики на MacOS\")\n",
    "macos_factory = MacOSFactory()\n",
    "client_code(macos_factory)"
   ]
  },
  {
   "cell_type": "code",
   "execution_count": 7,
   "metadata": {},
   "outputs": [
    {
     "name": "stdout",
     "output_type": "stream",
     "text": [
      "\n",
      "Оригиналы:\n",
      "Письмо: Иванов, содержание: Здравствуйте, Иванов! Письмо от компании ...\n",
      "Документ: Отчет по проекту, содержание: Нудные циферы...\n",
      "\n",
      " Копии:\n",
      "Письмо: Петров, содержание: Изменено\n",
      "Документ: Отчет по успеваемости, содержание: Изменено\n"
     ]
    }
   ],
   "source": [
    "import copy\n",
    "from abc import ABC, abstractmethod\n",
    "from dataclasses import dataclass\n",
    "\n",
    "class Document(ABC):\n",
    "    @abstractmethod\n",
    "    def clone(self):\n",
    "        pass\n",
    "\n",
    "@dataclass\n",
    "class Report(Document):\n",
    "    title:str\n",
    "    content:str\n",
    "    def clone(self):\n",
    "        return copy.deepcopy(self)\n",
    "    def display(self):\n",
    "        return f\"Документ: {self.title}, содержание: {self.content}\"\n",
    "    \n",
    "@dataclass\n",
    "class Letter(Document):\n",
    "    recipient:str\n",
    "    message:str\n",
    "\n",
    "    def clone(self):\n",
    "        return copy.deepcopy(self)\n",
    "    \n",
    "    def display(self):\n",
    "      return f\"Письмо: {self.recipient}, содержание: {self.message}\"  \n",
    "\n",
    "\n",
    "original_report = Report(\"Отчет по проекту\", \"Нудные циферы...\")\n",
    "original_letter = Letter(\"Иванов\", \"Здравствуйте, Иванов! Письмо от компании ...\")\n",
    "\n",
    "cloned_letter = original_letter.clone()\n",
    "cloned_report = original_report.clone()\n",
    "\n",
    "cloned_letter.recipient = \"Петров\"\n",
    "cloned_report.title = \"Отчет по успеваемости\"\n",
    "\n",
    "cloned_report.content = \"Изменено\"\n",
    "cloned_letter.message = \"Изменено\"\n",
    "\n",
    "print(\"\\nОригиналы:\")\n",
    "print(original_letter.display())\n",
    "print(original_report.display())\n",
    "\n",
    "print(\"\\n Копии:\")\n",
    "print(cloned_letter.display())\n",
    "print(cloned_report.display())"
   ]
  },
  {
   "cell_type": "code",
   "execution_count": 8,
   "metadata": {},
   "outputs": [
    {
     "name": "stdout",
     "output_type": "stream",
     "text": [
      "ඞ\n"
     ]
    }
   ],
   "source": [
    "print(chr(sum(range(ord(min(str(not())))))))"
   ]
  },
  {
   "cell_type": "code",
   "execution_count": 13,
   "metadata": {},
   "outputs": [
    {
     "name": "stdout",
     "output_type": "stream",
     "text": [
      "cls <class '__main__.MyMeta'>\n",
      "name MyClass\n",
      "bases ()\n",
      "dct {'__module__': '__main__', '__qualname__': 'MyClass', 'say_hello': <function MyMeta.__new__.<locals>.<lambda> at 0x000001D58559ED40>}\n"
     ]
    },
    {
     "data": {
      "text/plain": [
       "'Привет я класс созданный от метакласса'"
      ]
     },
     "execution_count": 13,
     "metadata": {},
     "output_type": "execute_result"
    }
   ],
   "source": [
    "\n",
    "\n",
    "class MyMeta(type):\n",
    "    def __new__(cls, name, bases, dct):\n",
    "        dct[\"say_hello\"] = lambda self: \"Привет я класс созданный от метакласса\"\n",
    "        print(f\"cls {cls}\")\n",
    "        print(f\"name {name}\")\n",
    "        print(f\"bases {bases}\")\n",
    "        print(f\"dct {dct}\")\n",
    "        if not name == \"MyClass\":\n",
    "            raise NameError(\"Название класса должно быть MyClass\")\n",
    "        return super().__new__(cls, name, bases, dct)\n",
    "    \n",
    "class MyClass(metaclass=MyMeta):\n",
    "    pass\n",
    "\n",
    "obj = MyClass()\n",
    "obj.say_hello()"
   ]
  },
  {
   "cell_type": "code",
   "execution_count": 1,
   "metadata": {},
   "outputs": [
    {
     "name": "stdout",
     "output_type": "stream",
     "text": [
      "Old system request\n",
      "New specific request\n"
     ]
    }
   ],
   "source": [
    "\"\"\"ADAPTER\"\"\"\n",
    "\n",
    "\n",
    "from dataclasses import dataclass\n",
    "class OldSystem:\n",
    "    def request(self):\n",
    "        return \"Old system request\"\n",
    "    \n",
    "class NewSystem:\n",
    "    def specific_request(self):\n",
    "        return \"New specific request\"\n",
    "@dataclass\n",
    "class Adapter:\n",
    "    new_system: str\n",
    "    def request(self):\n",
    "        return self.new_system.specific_request()\n",
    "    \n",
    "old_system = OldSystem()\n",
    "new_system = NewSystem()\n",
    "adapter = Adapter(new_system)\n",
    "print(old_system.request())\n",
    "print(adapter.request())"
   ]
  },
  {
   "cell_type": "code",
   "execution_count": 4,
   "metadata": {},
   "outputs": [
    {
     "name": "stdout",
     "output_type": "stream",
     "text": [
      "TV is on\n",
      "Radio is off\n"
     ]
    }
   ],
   "source": [
    "from abc import ABC, abstractmethod\n",
    "from dataclasses import dataclass\n",
    "\n",
    "class Device(ABC):\n",
    "    @abstractmethod\n",
    "    def turn_on(self):\n",
    "        pass\n",
    "    def turn_off(self):\n",
    "        pass\n",
    "\n",
    "class TV(Device):\n",
    "    def turn_on(self):\n",
    "        return \"TV is on\"\n",
    "    def turn_off(self):\n",
    "        return \"TV is off\"\n",
    "    \n",
    "class Radio(Device):\n",
    "    def turn_on(self):\n",
    "        return \"Radio is on\"\n",
    "    def turn_off(self):\n",
    "        return \"Radio is off\"\n",
    "    \n",
    "@dataclass\n",
    "class RemoteControl:\n",
    "    device: Device\n",
    "\n",
    "    def turnthisshiton(self):\n",
    "        return self.device.turn_on()\n",
    "    def turnthisshitoff(self):\n",
    "        return self.device.turn_off()\n",
    "\n",
    "\n",
    "tv = TV()\n",
    "radio = Radio()\n",
    "tv_remote = RemoteControl(tv)\n",
    "radio_remote = RemoteControl(radio)\n",
    "print(tv_remote.turnthisshiton())\n",
    "print(radio_remote.turnthisshitoff())\n",
    "\n"
   ]
  },
  {
   "cell_type": "code",
   "execution_count": 8,
   "metadata": {},
   "outputs": [
    {
     "name": "stdout",
     "output_type": "stream",
     "text": [
      "Folder: Folder2\n",
      "Folder: Folder1\n",
      "File: file1.txt\n",
      "\n",
      "File: file2.txt\n"
     ]
    }
   ],
   "source": [
    "from abc import ABC, abstractmethod\n",
    "from dataclasses import dataclass\n",
    "class FileSystemComponent(ABC):\n",
    "    @abstractmethod\n",
    "    def show(self) -> str:\n",
    "        pass\n",
    "@dataclass\n",
    "class File(FileSystemComponent):\n",
    "    name: str\n",
    "    def show(self):\n",
    "        return f\"File: {self.name}\"\n",
    "    \n",
    "\n",
    "class Folder(FileSystemComponent):\n",
    "    def __init__(self, name):\n",
    "        self.name = name\n",
    "        self.children = []\n",
    "    def add(self, component: FileSystemComponent):\n",
    "        self.children.append(component)\n",
    "\n",
    "    def show(self):\n",
    "        result = f\"Folder: {self.name}\"\n",
    "        for child in self.children:\n",
    "            result += \"\\n\" + child.show() + \"\\n\"\n",
    "        return result.strip()\n",
    "\n",
    "file1 = File(\"file1.txt\")\n",
    "file2 = File(\"file2.txt\")\n",
    "folder = Folder(\"Folder1\")\n",
    "folder.add(file1)\n",
    "folder.add(file2)\n",
    "folder2 = Folder(\"Folder2\")\n",
    "folder2.add(folder)\n",
    "print(folder2.show())\n",
    "\n"
   ]
  },
  {
   "cell_type": "code",
   "execution_count": 12,
   "metadata": {},
   "outputs": [
    {
     "name": "stdout",
     "output_type": "stream",
     "text": [
      "Стоимость обычного кофе: 3\n",
      "Стоимость кофе с молоком: 6\n",
      "Стоимость кофе с сахаром: 4\n"
     ]
    }
   ],
   "source": [
    "from dataclasses import dataclass\n",
    "\n",
    "class Coffee:\n",
    "    def cost(self):\n",
    "        return 3\n",
    "    \n",
    "\n",
    "class MilkCoffee:\n",
    "    def __init__(self, coffee: Coffee):\n",
    "        self.__coffee = coffee\n",
    "\n",
    "    def cost(self):\n",
    "        return self.__coffee.cost() + 3\n",
    "    \n",
    "class SugarCoffee:\n",
    "    def __init__(self, coffee: Coffee):\n",
    "        self.__coffee = coffee\n",
    "\n",
    "    def cost(self):\n",
    "        return self.__coffee.cost() + 1\n",
    "    \n",
    "coffee = Coffee()\n",
    "print(f\"Стоимость обычного кофе: {coffee.cost()}\")\n",
    "\n",
    "\n",
    "milk_coffee = MilkCoffee(coffee)\n",
    "print(f\"Стоимость кофе с молоком: {milk_coffee.cost()}\")\n",
    "suger_coffee = SugarCoffee(coffee)\n",
    "print(f\"Стоимость кофе с сахаром: {suger_coffee.cost()}\")\n",
    "\n"
   ]
  },
  {
   "cell_type": "code",
   "execution_count": 13,
   "metadata": {},
   "outputs": [
    {
     "name": "stdout",
     "output_type": "stream",
     "text": [
      "CPU is starting\n",
      "Memory is loading\n",
      "Reading data from hard drive\n"
     ]
    }
   ],
   "source": [
    "class CPU:\n",
    "    def start(self):\n",
    "        print(\"CPU is starting\")\n",
    "\n",
    "class Memory:\n",
    "    def load(self):\n",
    "        print(\"Memory is loading\")\n",
    "\n",
    "class HardDrive:\n",
    "    def read(self):\n",
    "        print(\"Reading data from hard drive\")\n",
    "\n",
    "class Computer:\n",
    "    def __init__(self):\n",
    "        self.cpu = CPU()\n",
    "        self.memory = Memory()\n",
    "        self.hard = HardDrive()\n",
    "\n",
    "    def start_computer(self):\n",
    "        self.cpu.start()\n",
    "        self.memory.load()\n",
    "        self.hard.read()\n",
    "\n",
    "computer = Computer()\n",
    "computer.start_computer()"
   ]
  },
  {
   "cell_type": "code",
   "execution_count": 15,
   "metadata": {},
   "outputs": [
    {
     "name": "stdout",
     "output_type": "stream",
     "text": [
      "Book1  - Fiction\n",
      "Book2  - Fiction\n",
      "Book3  - Science\n"
     ]
    }
   ],
   "source": [
    "@dataclass\n",
    "class Genre:\n",
    "    name:str\n",
    "    \n",
    "@dataclass  \n",
    "class Book:\n",
    "    title:str\n",
    "    genre:Genre\n",
    "\n",
    "genre_fiction = Genre(\"Fiction\")\n",
    "genre_science = Genre(\"Science\")\n",
    "\n",
    "book1 = Book(\"Book1\", genre_fiction)\n",
    "book2 = Book(\"Book2\", genre_fiction)\n",
    "book3 = Book(\"Book3\", genre_science)\n",
    "print(f\"{book1.title}  - {book1.genre.name}\")\n",
    "print(f\"{book2.title}  - {book2.genre.name}\")\n",
    "print(f\"{book3.title}  - {book3.genre.name}\")"
   ]
  }
 ],
 "metadata": {
  "kernelspec": {
   "display_name": "Python 3",
   "language": "python",
   "name": "python3"
  },
  "language_info": {
   "codemirror_mode": {
    "name": "ipython",
    "version": 3
   },
   "file_extension": ".py",
   "mimetype": "text/x-python",
   "name": "python",
   "nbconvert_exporter": "python",
   "pygments_lexer": "ipython3",
   "version": "3.11.9"
  }
 },
 "nbformat": 4,
 "nbformat_minor": 2
}

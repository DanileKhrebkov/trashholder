{
 "cells": [
  {
   "cell_type": "code",
   "execution_count": 1,
   "metadata": {},
   "outputs": [
    {
     "name": "stdout",
     "output_type": "stream",
     "text": [
      "4\n",
      "3\n",
      "2\n"
     ]
    }
   ],
   "source": [
    "my_list = []\n",
    "my_list.append(1)\n",
    "my_my_my_list.append(2)\n",
    "my_list.append(3)\n",
    "my_list.append(4)\n",
    "\n",
    "print(my_list.pop())\n",
    "print(my_list.pop())\n",
    "print(my_list.pop())"
   ]
  },
  {
   "cell_type": "code",
   "execution_count": 5,
   "metadata": {},
   "outputs": [
    {
     "name": "stdout",
     "output_type": "stream",
     "text": [
      "1 is added\n",
      "2 is added\n",
      "4 is added\n",
      "3 is added\n",
      "Удален: 3\n",
      "//////////////////////////////////////////\n",
      "Selected stack: [1, 2, 4]\n",
      "<__main__.Stack object at 0x00000196024F7C50>\n"
     ]
    }
   ],
   "source": [
    "class Stack:\n",
    "    def __init__(self):\n",
    "        self.__stack = []\n",
    "\n",
    "    def is_empty(self):\n",
    "        return len(self.__stack) == 0\n",
    "    \n",
    "\n",
    "    def push(self, item):\n",
    "        self.__stack.append(item)\n",
    "        print(f\"{item} is added\")\n",
    "\n",
    "\n",
    "    def pop(self):\n",
    "        if not self.is_empty():\n",
    "            popped_item = self.__stack.pop()\n",
    "            print(f\"Удален: {popped_item}\")\n",
    "        else:\n",
    "            print(\" is empty\")\n",
    "            return None\n",
    "        \n",
    "    \n",
    "    def check_last(self):\n",
    "        if not self.is_empty():\n",
    "            return self.__stack[-1]\n",
    "        else:\n",
    "            print(\" is empty\")\n",
    "            return None\n",
    "        \n",
    "    def size(self):\n",
    "        return len(self.__stack)\n",
    "    \n",
    "    def display(self):\n",
    "        print(f\"Selected stack: {self.__stack}\")\n",
    "\n",
    "my_stack = Stack()\n",
    "my_stack.push(1)\n",
    "my_stack.push(2)\n",
    "my_stack.push(4)\n",
    "my_stack.push(3)\n",
    "my_stack.pop()\n",
    "my_stack.is_empty()\n",
    "my_stack.check_last()\n",
    "print(\"//////////////////////////////////////////\")\n",
    "my_stack.display()\n"
   ]
  },
  {
   "cell_type": "code",
   "execution_count": 6,
   "metadata": {},
   "outputs": [
    {
     "name": "stdout",
     "output_type": "stream",
     "text": [
      "1\n",
      "2\n"
     ]
    }
   ],
   "source": [
    "my_list = []\n",
    "my_list.append(1)\n",
    "my_list.append(2)\n",
    "my_list.append(3)\n",
    "print(my_list.pop(0))\n",
    "print(my_list.pop(0))\n",
    "\n"
   ]
  },
  {
   "cell_type": "code",
   "execution_count": 11,
   "metadata": {},
   "outputs": [
    {
     "name": "stdout",
     "output_type": "stream",
     "text": [
      "1 is added\n",
      "2 is added\n",
      "3 is added\n",
      "4 is added\n",
      "Удален: 4\n",
      "Удален: 3\n",
      "2\n",
      "//////////////////////////////////////////\n",
      "Selected stack: [1, 2]\n"
     ]
    }
   ],
   "source": [
    "class Queue:\n",
    "\n",
    "    def __init__(self):\n",
    "        self.__Queue = []\n",
    "\n",
    "    def is_empty(self):\n",
    "        return len(self.__Queue) == 0\n",
    "    \n",
    "\n",
    "    def push(self, item):\n",
    "        self.__Queue.append(item)\n",
    "        print(f\"{item} is added\")\n",
    "\n",
    "\n",
    "    def pop(self):\n",
    "        if not self.is_empty():\n",
    "            popped_item = self.__Queue.pop()\n",
    "            print(f\"Удален: {popped_item}\")\n",
    "        else:\n",
    "            print(\" is empty\")\n",
    "            return None\n",
    "\n",
    "\n",
    "    def check_last(self):\n",
    "        if not self.is_empty():\n",
    "            return self.__Queue[0]\n",
    "        else:\n",
    "            print(\" is empty\")\n",
    "            return None\n",
    "\n",
    "    def size(self):\n",
    "        return len(self.__Queue)\n",
    "\n",
    "    def display(self):\n",
    "        print(f\"Selected stack: {self.__Queue}\")\n",
    "\n",
    "my_queue = Queue()\n",
    "my_queue.push(1)\n",
    "my_queue.push(2)\n",
    "my_queue.push(3)\n",
    "my_queue.push(4)\n",
    "my_queue.pop()\n",
    "my_queue.pop()\n",
    "print(my_queue.size())\n",
    "my_queue.check_last()\n",
    "print(\"//////////////////////////////////////////\")\n",
    "my_stack.display()\n"
   ]
  },
  {
   "cell_type": "code",
   "execution_count": null,
   "metadata": {},
   "outputs": [],
   "source": [
    "class Node:\n",
    "    def __init__(self, key):\n",
    "        self.left = None\n",
    "        self.right = None\n",
    "        self.value = key\n",
    "\n",
    "class BinaryTree:\n",
    "    def __init__(self):\n",
    "        self.root = None\n",
    "\n",
    "    def insert(self, key):\n",
    "        if self.root is None:\n",
    "            self.root = key\n",
    "        else:\n",
    "            self.insert_rec(self.root, key)\n",
    "\n",
    "    def __insert_rec(self, node, key):\n",
    "        if key < node.value:\n",
    "            if node.left is None:\n",
    "                node.left = Node(key)\n",
    "            else:\n",
    "                self.__insert_rec(node.left, key)\n",
    "        else:\n",
    "            if node.right is None:\n",
    "                node.right = Node(key)\n",
    "            else:\n",
    "                self.__insert_rec(node.right, key)\n",
    "        "
   ]
  },
  {
   "cell_type": "code",
   "execution_count": null,
   "metadata": {},
   "outputs": [],
   "source": []
  },
  {
   "cell_type": "code",
   "execution_count": 18,
   "metadata": {},
   "outputs": [
    {
     "name": "stdout",
     "output_type": "stream",
     "text": [
      "[[], [[1]]]\n",
      "[[2], [[[3], [3.5]], [4]]]\n",
      "[5]\n"
     ]
    }
   ],
   "source": [
    "numbers = [\n",
    "    [\n",
    "        [\n",
    "\n",
    "        ],\n",
    "        [\n",
    "            [1]\n",
    "        ]\n",
    "    ],\n",
    "    [\n",
    "        [2],\n",
    "        [\n",
    "            [\n",
    "                [3],\n",
    "                [3.5]\n",
    "            ],\n",
    "            [4]\n",
    "        ]\n",
    "    ],\n",
    "    [5]\n",
    "]\n",
    "def print_elements(num):\n",
    "    for i in num:\n",
    "        if type(i) == list:\n",
    "            print_elements(i)\n",
    "        else:\n",
    "            print(i)\n",
    "            \n",
    "print_elements(numbers)"
   ]
  }
 ],
 "metadata": {
  "kernelspec": {
   "display_name": "Python 3",
   "language": "python",
   "name": "python3"
  },
  "language_info": {
   "codemirror_mode": {
    "name": "ipython",
    "version": 3
   },
   "file_extension": ".py",
   "mimetype": "text/x-python",
   "name": "python",
   "nbconvert_exporter": "python",
   "pygments_lexer": "ipython3",
   "version": "3.11.9"
  }
 },
 "nbformat": 4,
 "nbformat_minor": 2
}

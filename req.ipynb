{
 "cells": [
  {
   "cell_type": "code",
   "execution_count": 1,
   "metadata": {},
   "outputs": [
    {
     "name": "stdout",
     "output_type": "stream",
     "text": [
      "Country: RU\n",
      " City: Sochi\n",
      " lat,lon: 43.5970,39.7248\n",
      " organization: AS47586 Business Svyaz\n"
     ]
    }
   ],
   "source": [
    "import requests\n",
    "ip = '158.58.129.140'\n",
    "url = \"https://ipinfo.io/\" + ip +'/geo'\n",
    "\n",
    "response = requests.get(url)\n",
    "\n",
    "r = response.json()\n",
    "\n",
    "print(f'Country: {r[\"country\"]}\\n City: {r[\"city\"]}\\n lat,lon: {r[\"loc\"]}\\n organization: {r[\"org\"]}')"
   ]
  }
 ],
 "metadata": {
  "kernelspec": {
   "display_name": "Python 3",
   "language": "python",
   "name": "python3"
  },
  "language_info": {
   "codemirror_mode": {
    "name": "ipython",
    "version": 3
   },
   "file_extension": ".py",
   "mimetype": "text/x-python",
   "name": "python",
   "nbconvert_exporter": "python",
   "pygments_lexer": "ipython3",
   "version": "3.11.9"
  }
 },
 "nbformat": 4,
 "nbformat_minor": 2
}
